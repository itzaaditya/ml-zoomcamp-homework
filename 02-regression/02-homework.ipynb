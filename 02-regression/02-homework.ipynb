{
 "cells": [
  {
   "cell_type": "code",
   "execution_count": 1,
   "id": "b803ee32-9768-4d4d-8cd9-ebf5a70a6007",
   "metadata": {},
   "outputs": [],
   "source": [
    "import numpy as np\n",
    "import pandas as pd\n",
    "import seaborn as sns"
   ]
  },
  {
   "cell_type": "code",
   "execution_count": 2,
   "id": "41bcd791-f030-4193-95e0-560b8b9a1ed6",
   "metadata": {},
   "outputs": [],
   "source": [
    "data = \"https://raw.githubusercontent.com/alexeygrigorev/datasets/master/laptops.csv\""
   ]
  },
  {
   "cell_type": "code",
   "execution_count": 3,
   "id": "617adc63-64d9-4870-90aa-c555c9b6b2e2",
   "metadata": {},
   "outputs": [
    {
     "data": {
      "text/html": [
       "<div>\n",
       "<style scoped>\n",
       "    .dataframe tbody tr th:only-of-type {\n",
       "        vertical-align: middle;\n",
       "    }\n",
       "\n",
       "    .dataframe tbody tr th {\n",
       "        vertical-align: top;\n",
       "    }\n",
       "\n",
       "    .dataframe thead th {\n",
       "        text-align: right;\n",
       "    }\n",
       "</style>\n",
       "<table border=\"1\" class=\"dataframe\">\n",
       "  <thead>\n",
       "    <tr style=\"text-align: right;\">\n",
       "      <th></th>\n",
       "      <th>Laptop</th>\n",
       "      <th>Status</th>\n",
       "      <th>Brand</th>\n",
       "      <th>Model</th>\n",
       "      <th>CPU</th>\n",
       "      <th>RAM</th>\n",
       "      <th>Storage</th>\n",
       "      <th>Storage type</th>\n",
       "      <th>GPU</th>\n",
       "      <th>Screen</th>\n",
       "      <th>Touch</th>\n",
       "      <th>Final Price</th>\n",
       "    </tr>\n",
       "  </thead>\n",
       "  <tbody>\n",
       "    <tr>\n",
       "      <th>0</th>\n",
       "      <td>ASUS ExpertBook B1 B1502CBA-EJ0436X Intel Core...</td>\n",
       "      <td>New</td>\n",
       "      <td>Asus</td>\n",
       "      <td>ExpertBook</td>\n",
       "      <td>Intel Core i5</td>\n",
       "      <td>8</td>\n",
       "      <td>512</td>\n",
       "      <td>SSD</td>\n",
       "      <td>NaN</td>\n",
       "      <td>15.6</td>\n",
       "      <td>No</td>\n",
       "      <td>1009.00</td>\n",
       "    </tr>\n",
       "    <tr>\n",
       "      <th>1</th>\n",
       "      <td>Alurin Go Start Intel Celeron N4020/8GB/256GB ...</td>\n",
       "      <td>New</td>\n",
       "      <td>Alurin</td>\n",
       "      <td>Go</td>\n",
       "      <td>Intel Celeron</td>\n",
       "      <td>8</td>\n",
       "      <td>256</td>\n",
       "      <td>SSD</td>\n",
       "      <td>NaN</td>\n",
       "      <td>15.6</td>\n",
       "      <td>No</td>\n",
       "      <td>299.00</td>\n",
       "    </tr>\n",
       "    <tr>\n",
       "      <th>2</th>\n",
       "      <td>ASUS ExpertBook B1 B1502CBA-EJ0424X Intel Core...</td>\n",
       "      <td>New</td>\n",
       "      <td>Asus</td>\n",
       "      <td>ExpertBook</td>\n",
       "      <td>Intel Core i3</td>\n",
       "      <td>8</td>\n",
       "      <td>256</td>\n",
       "      <td>SSD</td>\n",
       "      <td>NaN</td>\n",
       "      <td>15.6</td>\n",
       "      <td>No</td>\n",
       "      <td>789.00</td>\n",
       "    </tr>\n",
       "    <tr>\n",
       "      <th>3</th>\n",
       "      <td>MSI Katana GF66 12UC-082XES Intel Core i7-1270...</td>\n",
       "      <td>New</td>\n",
       "      <td>MSI</td>\n",
       "      <td>Katana</td>\n",
       "      <td>Intel Core i7</td>\n",
       "      <td>16</td>\n",
       "      <td>1000</td>\n",
       "      <td>SSD</td>\n",
       "      <td>RTX 3050</td>\n",
       "      <td>15.6</td>\n",
       "      <td>No</td>\n",
       "      <td>1199.00</td>\n",
       "    </tr>\n",
       "    <tr>\n",
       "      <th>4</th>\n",
       "      <td>HP 15S-FQ5085NS Intel Core i5-1235U/16GB/512GB...</td>\n",
       "      <td>New</td>\n",
       "      <td>HP</td>\n",
       "      <td>15S</td>\n",
       "      <td>Intel Core i5</td>\n",
       "      <td>16</td>\n",
       "      <td>512</td>\n",
       "      <td>SSD</td>\n",
       "      <td>NaN</td>\n",
       "      <td>15.6</td>\n",
       "      <td>No</td>\n",
       "      <td>669.01</td>\n",
       "    </tr>\n",
       "  </tbody>\n",
       "</table>\n",
       "</div>"
      ],
      "text/plain": [
       "                                              Laptop Status   Brand  \\\n",
       "0  ASUS ExpertBook B1 B1502CBA-EJ0436X Intel Core...    New    Asus   \n",
       "1  Alurin Go Start Intel Celeron N4020/8GB/256GB ...    New  Alurin   \n",
       "2  ASUS ExpertBook B1 B1502CBA-EJ0424X Intel Core...    New    Asus   \n",
       "3  MSI Katana GF66 12UC-082XES Intel Core i7-1270...    New     MSI   \n",
       "4  HP 15S-FQ5085NS Intel Core i5-1235U/16GB/512GB...    New      HP   \n",
       "\n",
       "        Model            CPU  RAM  Storage Storage type       GPU  Screen  \\\n",
       "0  ExpertBook  Intel Core i5    8      512          SSD       NaN    15.6   \n",
       "1          Go  Intel Celeron    8      256          SSD       NaN    15.6   \n",
       "2  ExpertBook  Intel Core i3    8      256          SSD       NaN    15.6   \n",
       "3      Katana  Intel Core i7   16     1000          SSD  RTX 3050    15.6   \n",
       "4         15S  Intel Core i5   16      512          SSD       NaN    15.6   \n",
       "\n",
       "  Touch  Final Price  \n",
       "0    No      1009.00  \n",
       "1    No       299.00  \n",
       "2    No       789.00  \n",
       "3    No      1199.00  \n",
       "4    No       669.01  "
      ]
     },
     "execution_count": 3,
     "metadata": {},
     "output_type": "execute_result"
    }
   ],
   "source": [
    "df = pd.read_csv(data)\n",
    "df.head()"
   ]
  },
  {
   "cell_type": "code",
   "execution_count": 4,
   "id": "2121d948-aad3-4211-a6c6-e6cd0a502442",
   "metadata": {},
   "outputs": [
    {
     "data": {
      "text/html": [
       "<div>\n",
       "<style scoped>\n",
       "    .dataframe tbody tr th:only-of-type {\n",
       "        vertical-align: middle;\n",
       "    }\n",
       "\n",
       "    .dataframe tbody tr th {\n",
       "        vertical-align: top;\n",
       "    }\n",
       "\n",
       "    .dataframe thead th {\n",
       "        text-align: right;\n",
       "    }\n",
       "</style>\n",
       "<table border=\"1\" class=\"dataframe\">\n",
       "  <thead>\n",
       "    <tr style=\"text-align: right;\">\n",
       "      <th></th>\n",
       "      <th>laptop</th>\n",
       "      <th>status</th>\n",
       "      <th>brand</th>\n",
       "      <th>model</th>\n",
       "      <th>cpu</th>\n",
       "      <th>ram</th>\n",
       "      <th>storage</th>\n",
       "      <th>storage_type</th>\n",
       "      <th>gpu</th>\n",
       "      <th>screen</th>\n",
       "      <th>touch</th>\n",
       "      <th>final_price</th>\n",
       "    </tr>\n",
       "  </thead>\n",
       "  <tbody>\n",
       "    <tr>\n",
       "      <th>0</th>\n",
       "      <td>ASUS ExpertBook B1 B1502CBA-EJ0436X Intel Core...</td>\n",
       "      <td>New</td>\n",
       "      <td>Asus</td>\n",
       "      <td>ExpertBook</td>\n",
       "      <td>Intel Core i5</td>\n",
       "      <td>8</td>\n",
       "      <td>512</td>\n",
       "      <td>SSD</td>\n",
       "      <td>NaN</td>\n",
       "      <td>15.6</td>\n",
       "      <td>No</td>\n",
       "      <td>1009.00</td>\n",
       "    </tr>\n",
       "    <tr>\n",
       "      <th>1</th>\n",
       "      <td>Alurin Go Start Intel Celeron N4020/8GB/256GB ...</td>\n",
       "      <td>New</td>\n",
       "      <td>Alurin</td>\n",
       "      <td>Go</td>\n",
       "      <td>Intel Celeron</td>\n",
       "      <td>8</td>\n",
       "      <td>256</td>\n",
       "      <td>SSD</td>\n",
       "      <td>NaN</td>\n",
       "      <td>15.6</td>\n",
       "      <td>No</td>\n",
       "      <td>299.00</td>\n",
       "    </tr>\n",
       "    <tr>\n",
       "      <th>2</th>\n",
       "      <td>ASUS ExpertBook B1 B1502CBA-EJ0424X Intel Core...</td>\n",
       "      <td>New</td>\n",
       "      <td>Asus</td>\n",
       "      <td>ExpertBook</td>\n",
       "      <td>Intel Core i3</td>\n",
       "      <td>8</td>\n",
       "      <td>256</td>\n",
       "      <td>SSD</td>\n",
       "      <td>NaN</td>\n",
       "      <td>15.6</td>\n",
       "      <td>No</td>\n",
       "      <td>789.00</td>\n",
       "    </tr>\n",
       "    <tr>\n",
       "      <th>3</th>\n",
       "      <td>MSI Katana GF66 12UC-082XES Intel Core i7-1270...</td>\n",
       "      <td>New</td>\n",
       "      <td>MSI</td>\n",
       "      <td>Katana</td>\n",
       "      <td>Intel Core i7</td>\n",
       "      <td>16</td>\n",
       "      <td>1000</td>\n",
       "      <td>SSD</td>\n",
       "      <td>RTX 3050</td>\n",
       "      <td>15.6</td>\n",
       "      <td>No</td>\n",
       "      <td>1199.00</td>\n",
       "    </tr>\n",
       "    <tr>\n",
       "      <th>4</th>\n",
       "      <td>HP 15S-FQ5085NS Intel Core i5-1235U/16GB/512GB...</td>\n",
       "      <td>New</td>\n",
       "      <td>HP</td>\n",
       "      <td>15S</td>\n",
       "      <td>Intel Core i5</td>\n",
       "      <td>16</td>\n",
       "      <td>512</td>\n",
       "      <td>SSD</td>\n",
       "      <td>NaN</td>\n",
       "      <td>15.6</td>\n",
       "      <td>No</td>\n",
       "      <td>669.01</td>\n",
       "    </tr>\n",
       "  </tbody>\n",
       "</table>\n",
       "</div>"
      ],
      "text/plain": [
       "                                              laptop status   brand  \\\n",
       "0  ASUS ExpertBook B1 B1502CBA-EJ0436X Intel Core...    New    Asus   \n",
       "1  Alurin Go Start Intel Celeron N4020/8GB/256GB ...    New  Alurin   \n",
       "2  ASUS ExpertBook B1 B1502CBA-EJ0424X Intel Core...    New    Asus   \n",
       "3  MSI Katana GF66 12UC-082XES Intel Core i7-1270...    New     MSI   \n",
       "4  HP 15S-FQ5085NS Intel Core i5-1235U/16GB/512GB...    New      HP   \n",
       "\n",
       "        model            cpu  ram  storage storage_type       gpu  screen  \\\n",
       "0  ExpertBook  Intel Core i5    8      512          SSD       NaN    15.6   \n",
       "1          Go  Intel Celeron    8      256          SSD       NaN    15.6   \n",
       "2  ExpertBook  Intel Core i3    8      256          SSD       NaN    15.6   \n",
       "3      Katana  Intel Core i7   16     1000          SSD  RTX 3050    15.6   \n",
       "4         15S  Intel Core i5   16      512          SSD       NaN    15.6   \n",
       "\n",
       "  touch  final_price  \n",
       "0    No      1009.00  \n",
       "1    No       299.00  \n",
       "2    No       789.00  \n",
       "3    No      1199.00  \n",
       "4    No       669.01  "
      ]
     },
     "execution_count": 4,
     "metadata": {},
     "output_type": "execute_result"
    }
   ],
   "source": [
    "df.columns = df.columns.str.lower().str.replace(' ', '_')\n",
    "df.head()"
   ]
  },
  {
   "cell_type": "code",
   "execution_count": 5,
   "id": "20f85129-2c17-4149-9af7-a6f11fe5b788",
   "metadata": {},
   "outputs": [
    {
     "data": {
      "text/plain": [
       "['ram', 'storage', 'screen', 'final_price']"
      ]
     },
     "execution_count": 5,
     "metadata": {},
     "output_type": "execute_result"
    }
   ],
   "source": [
    "cols = ['ram', 'storage','screen','final_price']\n",
    "cols"
   ]
  },
  {
   "cell_type": "code",
   "execution_count": 6,
   "id": "39eb634f-ed41-43ba-95f8-d16834421dfa",
   "metadata": {},
   "outputs": [
    {
     "data": {
      "text/plain": [
       "<Axes: xlabel='final_price', ylabel='Count'>"
      ]
     },
     "execution_count": 6,
     "metadata": {},
     "output_type": "execute_result"
    },
    {
     "data": {
      "image/png": "[encoded data removed]",
      "text/plain": [
       "<Figure size 640x480 with 1 Axes>"
      ]
     },
     "metadata": {},
     "output_type": "display_data"
    }
   ],
   "source": [
    "sns.histplot(df.final_price, bins=50)"
   ]
  },
  {
   "cell_type": "code",
   "execution_count": 7,
   "id": "1c03dd52-668e-4686-ab06-5b4f097c70e1",
   "metadata": {},
   "outputs": [
    {
     "data": {
      "text/plain": [
       "ram            0\n",
       "storage        0\n",
       "screen         4\n",
       "final_price    0\n",
       "dtype: int64"
      ]
     },
     "execution_count": 7,
     "metadata": {},
     "output_type": "execute_result"
    }
   ],
   "source": [
    "df[cols].isna().sum()"
   ]
  },
  {
   "cell_type": "code",
   "execution_count": 8,
   "id": "9ba76025-b699-4740-a343-f6e6e0bd47e4",
   "metadata": {},
   "outputs": [
    {
     "data": {
      "text/plain": [
       "np.float64(16.0)"
      ]
     },
     "execution_count": 8,
     "metadata": {},
     "output_type": "execute_result"
    }
   ],
   "source": [
    "med = df.ram.median()\n",
    "med"
   ]
  },
  {
   "cell_type": "code",
   "execution_count": 9,
   "id": "ee0a455c-4ba4-4fbf-ad5f-d2c6487c6665",
   "metadata": {},
   "outputs": [],
   "source": [
    "n = len(df)\n",
    "idx = np.arange(n)\n",
    "np.random.seed(9)\n",
    "np.random.shuffle(idx)\n"
   ]
  },
  {
   "cell_type": "code",
   "execution_count": 10,
   "id": "8ad84e6d-e2bc-4ca1-80a5-00a17e605937",
   "metadata": {},
   "outputs": [
    {
     "data": {
      "text/plain": [
       "array([2003,  502,  896, ...,  501,  348,  382], shape=(2160,))"
      ]
     },
     "execution_count": 10,
     "metadata": {},
     "output_type": "execute_result"
    }
   ],
   "source": [
    "idx"
   ]
  },
  {
   "cell_type": "code",
   "execution_count": 11,
   "id": "ff8127d7-4a32-48f1-ba08-dbf9f3c1ea71",
   "metadata": {},
   "outputs": [
    {
     "data": {
      "text/plain": [
       "(432, 1296, 432, 2160)"
      ]
     },
     "execution_count": 11,
     "metadata": {},
     "output_type": "execute_result"
    }
   ],
   "source": [
    "n_val = int(n * 0.2)\n",
    "n_test = int(n * 0.2)\n",
    "n_train = n - n_val - n_test\n",
    "n_val , n_train, n_test, n"
   ]
  },
  {
   "cell_type": "code",
   "execution_count": 12,
   "id": "bcd06c12-dd51-4022-ad6b-9be9482abe86",
   "metadata": {},
   "outputs": [
    {
     "data": {
      "text/html": [
       "<div>\n",
       "<style scoped>\n",
       "    .dataframe tbody tr th:only-of-type {\n",
       "        vertical-align: middle;\n",
       "    }\n",
       "\n",
       "    .dataframe tbody tr th {\n",
       "        vertical-align: top;\n",
       "    }\n",
       "\n",
       "    .dataframe thead th {\n",
       "        text-align: right;\n",
       "    }\n",
       "</style>\n",
       "<table border=\"1\" class=\"dataframe\">\n",
       "  <thead>\n",
       "    <tr style=\"text-align: right;\">\n",
       "      <th></th>\n",
       "      <th>laptop</th>\n",
       "      <th>status</th>\n",
       "      <th>brand</th>\n",
       "      <th>model</th>\n",
       "      <th>cpu</th>\n",
       "      <th>ram</th>\n",
       "      <th>storage</th>\n",
       "      <th>storage_type</th>\n",
       "      <th>gpu</th>\n",
       "      <th>screen</th>\n",
       "      <th>touch</th>\n",
       "      <th>final_price</th>\n",
       "    </tr>\n",
       "  </thead>\n",
       "  <tbody>\n",
       "    <tr>\n",
       "      <th>2003</th>\n",
       "      <td>MSI Creator 15 A10SF-018ES Intel Core i7-10875...</td>\n",
       "      <td>Refurbished</td>\n",
       "      <td>MSI</td>\n",
       "      <td>Creator</td>\n",
       "      <td>Intel Core i7</td>\n",
       "      <td>32</td>\n",
       "      <td>1000</td>\n",
       "      <td>SSD</td>\n",
       "      <td>RTX 2070</td>\n",
       "      <td>15.6</td>\n",
       "      <td>No</td>\n",
       "      <td>1592.89</td>\n",
       "    </tr>\n",
       "    <tr>\n",
       "      <th>502</th>\n",
       "      <td>Apple MacBook Air Apple M1/8GB/512GB SSD/GPU H...</td>\n",
       "      <td>New</td>\n",
       "      <td>Apple</td>\n",
       "      <td>MacBook Air</td>\n",
       "      <td>Apple M1</td>\n",
       "      <td>8</td>\n",
       "      <td>512</td>\n",
       "      <td>SSD</td>\n",
       "      <td>NaN</td>\n",
       "      <td>13.3</td>\n",
       "      <td>No</td>\n",
       "      <td>1349.00</td>\n",
       "    </tr>\n",
       "    <tr>\n",
       "      <th>896</th>\n",
       "      <td>HP 250 G8 Intel Core i5-1135G7/8 GB/512 GB SSD...</td>\n",
       "      <td>New</td>\n",
       "      <td>HP</td>\n",
       "      <td>250</td>\n",
       "      <td>Intel Core i5</td>\n",
       "      <td>8</td>\n",
       "      <td>512</td>\n",
       "      <td>SSD</td>\n",
       "      <td>NaN</td>\n",
       "      <td>15.6</td>\n",
       "      <td>No</td>\n",
       "      <td>549.00</td>\n",
       "    </tr>\n",
       "    <tr>\n",
       "      <th>356</th>\n",
       "      <td>ASUS ROG Strix G17 G713RS-LL042 AMD Ryzen 7 68...</td>\n",
       "      <td>New</td>\n",
       "      <td>Asus</td>\n",
       "      <td>ROG</td>\n",
       "      <td>AMD Ryzen 7</td>\n",
       "      <td>32</td>\n",
       "      <td>1000</td>\n",
       "      <td>SSD</td>\n",
       "      <td>RTX 3080</td>\n",
       "      <td>17.3</td>\n",
       "      <td>No</td>\n",
       "      <td>2999.00</td>\n",
       "    </tr>\n",
       "    <tr>\n",
       "      <th>499</th>\n",
       "      <td>MSI Prestige 16 A12UD-221XES Intel Core i7-128...</td>\n",
       "      <td>New</td>\n",
       "      <td>MSI</td>\n",
       "      <td>Prestige</td>\n",
       "      <td>Intel Core i7</td>\n",
       "      <td>16</td>\n",
       "      <td>1000</td>\n",
       "      <td>SSD</td>\n",
       "      <td>RTX 3050</td>\n",
       "      <td>16.0</td>\n",
       "      <td>No</td>\n",
       "      <td>1889.00</td>\n",
       "    </tr>\n",
       "  </tbody>\n",
       "</table>\n",
       "</div>"
      ],
      "text/plain": [
       "                                                 laptop       status  brand  \\\n",
       "2003  MSI Creator 15 A10SF-018ES Intel Core i7-10875...  Refurbished    MSI   \n",
       "502   Apple MacBook Air Apple M1/8GB/512GB SSD/GPU H...          New  Apple   \n",
       "896   HP 250 G8 Intel Core i5-1135G7/8 GB/512 GB SSD...          New     HP   \n",
       "356   ASUS ROG Strix G17 G713RS-LL042 AMD Ryzen 7 68...          New   Asus   \n",
       "499   MSI Prestige 16 A12UD-221XES Intel Core i7-128...          New    MSI   \n",
       "\n",
       "            model            cpu  ram  storage storage_type       gpu  screen  \\\n",
       "2003      Creator  Intel Core i7   32     1000          SSD  RTX 2070    15.6   \n",
       "502   MacBook Air       Apple M1    8      512          SSD       NaN    13.3   \n",
       "896           250  Intel Core i5    8      512          SSD       NaN    15.6   \n",
       "356           ROG    AMD Ryzen 7   32     1000          SSD  RTX 3080    17.3   \n",
       "499      Prestige  Intel Core i7   16     1000          SSD  RTX 3050    16.0   \n",
       "\n",
       "     touch  final_price  \n",
       "2003    No      1592.89  \n",
       "502     No      1349.00  \n",
       "896     No       549.00  \n",
       "356     No      2999.00  \n",
       "499     No      1889.00  "
      ]
     },
     "execution_count": 12,
     "metadata": {},
     "output_type": "execute_result"
    }
   ],
   "source": [
    "df_train = df.iloc[idx[:n_train]]\n",
    "df_val = df.iloc[idx[n_train: n_train+n_val]]\n",
    "df_test = df.iloc[idx[n_train+n_val:]]\n",
    "df_train.head()"
   ]
  },
  {
   "cell_type": "code",
   "execution_count": 13,
   "id": "243146cc-8679-45fd-8650-84a399a48e13",
   "metadata": {},
   "outputs": [
    {
     "data": {
      "text/plain": [
       "((1296, 12), (432, 12), (432, 12))"
      ]
     },
     "execution_count": 13,
     "metadata": {},
     "output_type": "execute_result"
    }
   ],
   "source": [
    "df_train = df_train.reset_index(drop=True)\n",
    "df_val = df_val.reset_index(drop=True)\n",
    "df_test = df_test.reset_index(drop=True)\n",
    "df_train.shape, df_val.shape, df_test.shape"
   ]
  },
  {
   "cell_type": "code",
   "execution_count": 14,
   "id": "ed5405f3-e3c0-4327-8451-888ce5414742",
   "metadata": {},
   "outputs": [
    {
     "data": {
      "text/plain": [
       "0       7.373933\n",
       "1       7.207860\n",
       "2       6.309918\n",
       "3       8.006368\n",
       "4       7.544332\n",
       "          ...   \n",
       "1291    7.522941\n",
       "1292    6.679272\n",
       "1293    6.063808\n",
       "1294    7.377759\n",
       "1295    8.517195\n",
       "Name: final_price, Length: 1296, dtype: float64"
      ]
     },
     "execution_count": 14,
     "metadata": {},
     "output_type": "execute_result"
    }
   ],
   "source": [
    "y_train = np.log1p(df_train.final_price)\n",
    "y_test = np.log1p(df_test.final_price)\n",
    "y_val = np.log1p(df_val.final_price)\n",
    "y_train"
   ]
  },
  {
   "cell_type": "code",
   "execution_count": 15,
   "id": "55fa3724-04e1-4ece-b294-f11b9dc3e4cf",
   "metadata": {},
   "outputs": [],
   "source": [
    "del df_train['final_price']\n",
    "del df_val['final_price']\n",
    "del df_test['final_price']"
   ]
  },
  {
   "cell_type": "code",
   "execution_count": 16,
   "id": "6250c5ec-a800-4a89-888b-da9b5583ee6e",
   "metadata": {},
   "outputs": [
    {
     "data": {
      "text/plain": [
       "array([[  32. , 1000. ,   15.6],\n",
       "       [   8. ,  512. ,   13.3],\n",
       "       [   8. ,  512. ,   15.6],\n",
       "       ...,\n",
       "       [   8. ,  128. ,   15.6],\n",
       "       [  16. , 1000. ,   17.3],\n",
       "       [  32. , 2000. ,   16. ]], shape=(1296, 3))"
      ]
     },
     "execution_count": 16,
     "metadata": {},
     "output_type": "execute_result"
    }
   ],
   "source": [
    "def prepare_X_0(df):\n",
    "    base = cols.copy()\n",
    "    base.remove('final_price')\n",
    "    df_num = df[base]\n",
    "    df_num = df_num.fillna(0)\n",
    "    X = df_num.values\n",
    "    return X\n",
    "X = prepare_X_0(df_train)\n",
    "X"
   ]
  },
  {
   "cell_type": "code",
   "execution_count": 17,
   "id": "946d6f1b-fb88-4781-a9bf-826a78a08372",
   "metadata": {},
   "outputs": [],
   "source": [
    "def train_linear_regression(x,y):\n",
    "    ones = np.ones(x.shape[0])\n",
    "    x = np.column_stack([ones,x])\n",
    "\n",
    "    XTX = x.T.dot(x)\n",
    "    XTX_inv = np.linalg.inv(XTX)\n",
    "    w_full = XTX_inv.dot(x.T).dot(y)\n",
    "\n",
    "    return w_full[0], w_full[1:]"
   ]
  },
  {
   "cell_type": "code",
   "execution_count": 18,
   "id": "bc1b812b-282e-4352-8b93-3fad19988773",
   "metadata": {},
   "outputs": [],
   "source": [
    "def linear_regression(x,w):\n",
    "    return x.dot(w)"
   ]
  },
  {
   "cell_type": "code",
   "execution_count": 19,
   "id": "59c0bf17-c6fa-4ab1-aa19-5784211f86d0",
   "metadata": {},
   "outputs": [],
   "source": [
    "def prepare_X_mean(df):\n",
    "    base = cols.copy()\n",
    "    base.remove('final_price')\n",
    "    mean = df.screen.mean()\n",
    "    df_num = df[base]\n",
    "    df_num = df_num.fillna(mean)\n",
    "    X = df_num.values\n",
    "    return X\n"
   ]
  },
  {
   "cell_type": "code",
   "execution_count": 20,
   "id": "5ba8b78f-714d-44dd-bc42-e048aab3cc24",
   "metadata": {},
   "outputs": [],
   "source": [
    "def rmse(y,y_pred):\n",
    "    error = y-y_pred\n",
    "    se = error ** 2\n",
    "    mse = se.mean()\n",
    "    return np.sqrt(mse)"
   ]
  },
  {
   "cell_type": "code",
   "execution_count": 21,
   "id": "2d487a6d-d0a7-46e8-8cc0-98388a4a234e",
   "metadata": {},
   "outputs": [
    {
     "data": {
      "text/plain": [
       "np.float64(0.41)"
      ]
     },
     "execution_count": 21,
     "metadata": {},
     "output_type": "execute_result"
    }
   ],
   "source": [
    "X_train = prepare_X_0(df_train)\n",
    "w0,w = train_linear_regression(X_train, y_train)\n",
    "\n",
    "X_val = prepare_X_0(df_val)\n",
    "y_pred = w0 + X_val.dot(w)\n",
    "rmse_0 = rmse(y_val, y_pred).round(2)\n",
    "rmse_0\n",
    "\n"
   ]
  },
  {
   "cell_type": "code",
   "execution_count": 22,
   "id": "4a1185fc-acb4-49dd-870e-4c0bb4a95b77",
   "metadata": {},
   "outputs": [
    {
     "data": {
      "text/plain": [
       "np.float64(0.41)"
      ]
     },
     "execution_count": 22,
     "metadata": {},
     "output_type": "execute_result"
    }
   ],
   "source": [
    "X_train = prepare_X_mean(df_train)\n",
    "w0,w = train_linear_regression(X_train,y_train)\n",
    "\n",
    "X_val = prepare_X_mean(df_val)\n",
    "y_pred = w0 + X_val.dot(w)\n",
    "rmse_mean = rmse(y_val,y_pred).round(2)\n",
    "rmse_mean"
   ]
  },
  {
   "cell_type": "code",
   "execution_count": 23,
   "id": "b3bc2dd4-9dbf-4432-b1c9-a32d1a68e483",
   "metadata": {},
   "outputs": [],
   "source": [
    "def train_regression_reg(X,y,r=0.001):\n",
    "    ones = np.ones(X.shape[0])\n",
    "    X = np.column_stack([ones,X])\n",
    "\n",
    "    XTX = X.T.dot(X)\n",
    "    XTX = XTX + r * np.eye(XTX.shape[0])\n",
    "    XTX_inv = np.linalg.inv(XTX)\n",
    "\n",
    "    w_full = XTX_inv.dot(X.T).dot(y)\n",
    "    return w_full[0], w_full[1:]"
   ]
  },
  {
   "cell_type": "code",
   "execution_count": 24,
   "id": "21528b7f-4194-444b-a8d0-f323e1725627",
   "metadata": {},
   "outputs": [
    {
     "name": "stdout",
     "output_type": "stream",
     "text": [
      "0 6.722879421950617 [ 0.02394976  0.00071616 -0.03558581] 0.41\n",
      "0.01 6.7146312088587905 [ 0.02394539  0.00071578 -0.03502599] 0.41\n",
      "0.1 6.641301891693225 [ 0.02390653  0.00071238 -0.03004902] 0.41\n",
      "1 5.9877296903462724 [0.02356029 0.00068206 0.01430928] 0.42\n",
      "5 4.168960069201653 [0.02259865 0.00059783 0.13774111] 0.49\n",
      "10 3.0255569232238138 [0.02199722 0.00054509 0.21532374] 0.57\n",
      "100 0.5303563684530987 [0.02078362 0.00043666 0.38415049] 0.77\n"
     ]
    }
   ],
   "source": [
    "r = [0, 0.01, 0.1, 1, 5, 10, 100]\n",
    "\n",
    "for i in r:   \n",
    "    X_train = prepare_X_0(df_train)\n",
    "    w0,w = train_regression_reg(X_train, y_train,r=i)\n",
    "    \n",
    "    X_val = prepare_X_0(df_val)\n",
    "    y_pred = w0 + X_val.dot(w)\n",
    "    rmse_0 = rmse(y_val, y_pred).round(2)\n",
    "    print(i , w0, w, rmse_0)"
   ]
  },
  {
   "cell_type": "code",
   "execution_count": 25,
   "id": "c8cc93bd-60a6-44c1-86a0-9ec371042ecc",
   "metadata": {},
   "outputs": [],
   "source": [
    "seed = [0, 1, 2, 3, 4, 5, 6, 7, 8, 9]"
   ]
  },
  {
   "cell_type": "code",
   "execution_count": 26,
   "id": "2a0441e9-93eb-4a12-98c2-309d6d93ab4e",
   "metadata": {},
   "outputs": [],
   "source": [
    "def create_training_data(n_train, n_val, n_test, idx_order):\n",
    "    df_train = df.iloc[idx_order[:n_train]]\n",
    "    df_val = df.iloc[idx_order[n_train:n_train+n_val]]\n",
    "    df_test = df.iloc[idx_order[n_train+n_val:]]\n",
    "    \n",
    "    df_train = df_train.reset_index(drop=True)\n",
    "    df_val = df_val.reset_index(drop=True)\n",
    "    df_test = df_test.reset_index(drop=True)\n",
    "    \n",
    "    y_train = np.log1p(df_train.final_price)\n",
    "    y_val = np.log1p(df_val.final_price)\n",
    "    y_test = np.log1p(df_test.final_price)\n",
    "\n",
    "    del df_train['final_price']\n",
    "    del df_val['final_price']\n",
    "    del df_test['final_price']\n",
    "    \n",
    "    return df_train, df_val, df_test, y_train, y_val, y_test\n",
    "\n",
    "\n",
    "def calculate_seed(seed):\n",
    "    rmse_data = []\n",
    "    for i in seed:\n",
    "        np.random.seed(i)\n",
    "        shuffled_idx = idx.copy()\n",
    "        np.random.shuffle(shuffled_idx)\n",
    "        \n",
    "        n_val = int(n * 0.2)\n",
    "        n_test = int(n * 0.2)\n",
    "        n_train = n - n_val - n_test\n",
    "\n",
    "        df_train, df_val, df_test, y_train, y_val, y_test = create_training_data(n_train, n_val, n_test, shuffled_idx)\n",
    "        \n",
    "        X_train = prepare_X_0(df_train)\n",
    "        w0, w = train_linear_regression(X_train, y_train)\n",
    "        \n",
    "        X_val = prepare_X_0(df_val)\n",
    "        y_pred = w0 + X_val.dot(w)\n",
    "        \n",
    "        rmse_0 = rmse(y_val, y_pred).round(2)\n",
    "        rmse_data.append(rmse_0)\n",
    "        \n",
    "        print(f\"Seed {i}: RMSE = {rmse_0}\")\n",
    "    return rmse_data\n"
   ]
  },
  {
   "cell_type": "code",
   "execution_count": 27,
   "id": "711ee4b9-7846-4033-b6ce-61b6c1619745",
   "metadata": {},
   "outputs": [
    {
     "name": "stdout",
     "output_type": "stream",
     "text": [
      "Seed 0: RMSE = 0.42\n",
      "Seed 1: RMSE = 0.44\n",
      "Seed 2: RMSE = 0.42\n",
      "Seed 3: RMSE = 0.44\n",
      "Seed 4: RMSE = 0.45\n",
      "Seed 5: RMSE = 0.46\n",
      "Seed 6: RMSE = 0.44\n",
      "Seed 7: RMSE = 0.45\n",
      "Seed 8: RMSE = 0.48\n",
      "Seed 9: RMSE = 0.42\n"
     ]
    }
   ],
   "source": [
    "rmse_values = calculate_seed(seed)\n",
    "std = np.std(rmse_values).round(3)"
   ]
  },
  {
   "cell_type": "code",
   "execution_count": 45,
   "id": "37c98a99-d056-4c09-ba26-57f3703e8449",
   "metadata": {},
   "outputs": [
    {
     "data": {
      "text/plain": [
       "((1728,), (1728, 11))"
      ]
     },
     "execution_count": 45,
     "metadata": {},
     "output_type": "execute_result"
    }
   ],
   "source": [
    "df_train_full = pd.concat([df_train,df_val])\n",
    "y_train_full = pd.concat([y_train,y_val])\n",
    "df_train_full = df_train_full.reset_index(drop=True)\n",
    "y_train_full = y_train_full.reset_index(drop=True)\n",
    "y_train_full.shape , df_train_full.shape"
   ]
  },
  {
   "cell_type": "code",
   "execution_count": 48,
   "id": "f29bc7db-eed2-4bf2-a523-e100a86fb586",
   "metadata": {},
   "outputs": [
    {
     "data": {
      "text/plain": [
       "np.float64(0.46)"
      ]
     },
     "execution_count": 48,
     "metadata": {},
     "output_type": "execute_result"
    }
   ],
   "source": [
    "X_train = prepare_X_0(df_train_full)\n",
    "w0, w = train_regression_reg(X_train, y_train_full,r=0.001)   \n",
    "\n",
    "X_test = prepare_X_0(df_test)\n",
    "y_pred = w0 + X_test.dot(w)\n",
    "     \n",
    "rmse_0 = rmse(y_test, y_pred).round(2)\n",
    "rmse_0"
   ]
  },
  {
   "cell_type": "code",
   "execution_count": 61,
   "id": "1aca1b9b-9a7d-4691-b924-ea09e2507c47",
   "metadata": {},
   "outputs": [
    {
     "data": {
      "text/plain": [
       "np.float64(527.4773778776872)"
      ]
     },
     "execution_count": 61,
     "metadata": {},
     "output_type": "execute_result"
    }
   ],
   "source": [
    "cc = y_test.iloc[20].round(2)\n",
    "np.expm1(cc)\n"
   ]
  },
  {
   "cell_type": "code",
   "execution_count": 63,
   "id": "7680a1a8-b12e-4310-b454-b2f9650c7e40",
   "metadata": {},
   "outputs": [
    {
     "data": {
      "text/plain": [
       "np.float64(1.0569074877439428)"
      ]
     },
     "execution_count": 63,
     "metadata": {},
     "output_type": "execute_result"
    }
   ],
   "source": [
    "test = np.array([8,512,0])\n",
    "y_pred = w0 + test.dot(w).round(2)\n",
    "np.expm1(y_pred)\n",
    "rmse(cc,y_pred)"
   ]
  },
  {
   "cell_type": "code",
   "execution_count": null,
   "id": "09f7cdaf-4712-4398-b87c-5dbb30a5df5c",
   "metadata": {},
   "outputs": [],
   "source": []
  }
 ],
 "metadata": {
  "kernelspec": {
   "display_name": "Python 3 (ipykernel)",
   "language": "python",
   "name": "python3"
  },
  "language_info": {
   "codemirror_mode": {
    "name": "ipython",
    "version": 3
   },
   "file_extension": ".py",
   "mimetype": "text/x-python",
   "name": "python",
   "nbconvert_exporter": "python",
   "pygments_lexer": "ipython3",
   "version": "3.12.1"
  }
 },
 "nbformat": 4,
 "nbformat_minor": 5
}
